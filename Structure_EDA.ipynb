{
 "cells": [
  {
   "cell_type": "markdown",
   "id": "1396f886",
   "metadata": {},
   "source": [
    "\n",
    "# 프로젝트 개요 : \n",
    "## 데이터 수집 및 전처리 \n",
    "- ( 링크 1 ~ 5 ) : 데이터 수집 및 전처리 코드는 위 링크에서 확인 가능 \n",
    "\n",
    "- 프로젝트 개요 \n",
    "- 사용한 데이터 셋 \n",
    "- 출처 \n",
    "\n",
    "\n",
    "- 분석 주제 1 \n",
    "- 분석 주제 2\n",
    "- 분석 주제 3\n",
    "..."
   ]
  },
  {
   "cell_type": "code",
   "execution_count": 1,
   "id": "05daa410",
   "metadata": {},
   "outputs": [
    {
     "name": "stdout",
     "output_type": "stream",
     "text": [
      "해윙\n"
     ]
    }
   ],
   "source": [
    "print('해윙')"
   ]
  },
  {
   "cell_type": "markdown",
   "id": "7c8d09e4",
   "metadata": {},
   "source": [
    "# EDA "
   ]
  },
  {
   "cell_type": "markdown",
   "id": "4c92abcc",
   "metadata": {},
   "source": [
    "## 가설 1 : "
   ]
  },
  {
   "cell_type": "markdown",
   "id": "79a36ec8",
   "metadata": {},
   "source": [
    "## 가설 2 : "
   ]
  },
  {
   "cell_type": "markdown",
   "id": "63a9c6ca",
   "metadata": {},
   "source": [
    "## 가설 3 : "
   ]
  },
  {
   "cell_type": "markdown",
   "id": "ee9d730d",
   "metadata": {},
   "source": [
    "## 가설 4 : "
   ]
  },
  {
   "cell_type": "markdown",
   "id": "fc159914",
   "metadata": {},
   "source": [
    "## 가설 5 : "
   ]
  }
 ],
 "metadata": {
  "kernelspec": {
   "display_name": "Python 3 (ipykernel)",
   "language": "python",
   "name": "python3"
  },
  "language_info": {
   "codemirror_mode": {
    "name": "ipython",
    "version": 3
   },
   "file_extension": ".py",
   "mimetype": "text/x-python",
   "name": "python",
   "nbconvert_exporter": "python",
   "pygments_lexer": "ipython3",
   "version": "3.7.10"
  },
  "toc": {
   "base_numbering": 1,
   "nav_menu": {},
   "number_sections": true,
   "sideBar": true,
   "skip_h1_title": false,
   "title_cell": "Table of Contents",
   "title_sidebar": "Contents",
   "toc_cell": false,
   "toc_position": {
    "height": "calc(100% - 180px)",
    "left": "10px",
    "top": "150px",
    "width": "384px"
   },
   "toc_section_display": true,
   "toc_window_display": true
  }
 },
 "nbformat": 4,
 "nbformat_minor": 5
}
